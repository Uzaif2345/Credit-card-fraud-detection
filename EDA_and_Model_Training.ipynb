{
 "cells": [
  {
   "cell_type": "code",
   "execution_count": null,
   "id": "8d4c7a92",
   "metadata": {},
   "outputs": [],
   "source": [
    "# %% [markdown]\n",
    "# # Credit Card Fraud - EDA & Preprocessing\n",
    "\n",
    "# %%\n",
    "# Install seaborn if not already installed\n",
    "%pip install seaborn\n",
    "\n",
    "import pandas as pd\n",
    "import matplotlib.pyplot as plt\n",
    "import seaborn as sns\n",
    "\n",
    "import os\n",
    "\n",
    "# Load data\n",
    "file_path = \"../data/creditcard.csv\"\n",
    "if not os.path.exists(file_path):\n",
    "    raise FileNotFoundError(f\"Dataset not found at {file_path}. Please check the file path.\")\n",
    "df = pd.read_csv(file_path)\n",
    "print(f\"Data shape: {df.shape}\")\n",
    "\n",
    "# Check class distribution\n",
    "plt.figure(figsize=(6, 4))\n",
    "sns.countplot(x='Class', data=df)\n",
    "plt.title('Fraud vs Normal Transactions')\n",
    "plt.show()\n",
    "\n",
    "# Check missing values\n",
    "print(\"\\nMissing values:\")\n",
    "print(df.isnull().sum())\n",
    "\n",
    "# %% [markdown]\n",
    "# ## Preprocessing\n",
    "\n",
    "# %%\n",
    "from sklearn.preprocessing import StandardScaler\n",
    "from sklearn.model_selection import train_test_split\n",
    "\n",
    "# Scale 'Time' and 'Amount'\n",
    "scaler = StandardScaler()\n",
    "df['Amount'] = scaler.fit_transform(df[['Amount']])\n",
    "df['Time'] = scaler.fit_transform(df[['Time']])\n",
    "\n",
    "# Split features/target\n",
    "X = df.drop('Class', axis=1)\n",
    "y = df['Class']\n",
    "\n",
    "# Split train/test\n",
    "X_train, X_test, y_train, y_test = train_test_split(\n",
    "    X, y, test_size=0.2, random_state=42, stratify=y\n",
    ")\n",
    "\n",
    "print(f\"\\nTrain shape: {X_train.shape}, Test shape: {X_test.shape}\")"
   ]
  }
 ],
 "metadata": {
  "kernelspec": {
   "display_name": "Python 3",
   "language": "python",
   "name": "python3"
  },
  "language_info": {
   "codemirror_mode": {
    "name": "ipython",
    "version": 3
   },
   "file_extension": ".py",
   "mimetype": "text/x-python",
   "name": "python",
   "nbconvert_exporter": "python",
   "pygments_lexer": "ipython3",
   "version": "3.13.3"
  }
 },
 "nbformat": 4,
 "nbformat_minor": 5
}
